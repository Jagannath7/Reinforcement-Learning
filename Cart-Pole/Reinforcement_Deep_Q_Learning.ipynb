{
 "cells": [
  {
   "cell_type": "code",
   "execution_count": 2,
   "metadata": {},
   "outputs": [],
   "source": [
    "import gym"
   ]
  },
  {
   "cell_type": "code",
   "execution_count": 3,
   "metadata": {},
   "outputs": [],
   "source": [
    "env = gym.make('CartPole-v0')"
   ]
  },
  {
   "cell_type": "code",
   "execution_count": 4,
   "metadata": {},
   "outputs": [
    {
     "data": {
      "text/plain": [
       "array([-0.03912517,  0.03228889, -0.0026808 ,  0.01238816])"
      ]
     },
     "execution_count": 4,
     "metadata": {},
     "output_type": "execute_result"
    }
   ],
   "source": [
    "env.reset()"
   ]
  },
  {
   "cell_type": "code",
   "execution_count": 5,
   "metadata": {},
   "outputs": [
    {
     "data": {
      "text/plain": [
       "Discrete(2)"
      ]
     },
     "execution_count": 5,
     "metadata": {},
     "output_type": "execute_result"
    }
   ],
   "source": [
    "env.action_space"
   ]
  },
  {
   "cell_type": "code",
   "execution_count": 6,
   "metadata": {},
   "outputs": [
    {
     "data": {
      "text/plain": [
       "4"
      ]
     },
     "execution_count": 6,
     "metadata": {},
     "output_type": "execute_result"
    }
   ],
   "source": [
    "env.observation_space.shape[0]"
   ]
  },
  {
   "cell_type": "code",
   "execution_count": 7,
   "metadata": {},
   "outputs": [
    {
     "name": "stderr",
     "output_type": "stream",
     "text": [
      "c:\\program files\\python36\\lib\\site-packages\\gym\\logger.py:30: UserWarning: \u001b[33mWARN: You are calling 'step()' even though this environment has already returned done = True. You should always call 'reset()' once you receive 'done = True' -- any further steps are undefined behavior.\u001b[0m\n",
      "  warnings.warn(colorize('%s: %s'%('WARN', msg % args), 'yellow'))\n"
     ]
    }
   ],
   "source": [
    "env.reset()\n",
    "for i in range(1000):\n",
    "    random_action = env.action_space.sample()\n",
    "    env.step(random_action)\n",
    "    env.render()\n",
    "env.close()"
   ]
  },
  {
   "cell_type": "code",
   "execution_count": 10,
   "metadata": {},
   "outputs": [
    {
     "name": "stdout",
     "output_type": "stream",
     "text": [
      "Game episode:0/20 High Score9\n",
      "Game episode:1/20 High Score18\n",
      "Game episode:2/20 High Score14\n",
      "Game episode:3/20 High Score13\n",
      "Game episode:4/20 High Score12\n",
      "Game episode:5/20 High Score20\n",
      "Game episode:6/20 High Score10\n",
      "Game episode:7/20 High Score13\n",
      "Game episode:8/20 High Score28\n",
      "Game episode:9/20 High Score20\n",
      "Game episode:10/20 High Score12\n",
      "Game episode:11/20 High Score35\n",
      "Game episode:12/20 High Score29\n",
      "Game episode:13/20 High Score17\n",
      "Game episode:14/20 High Score11\n",
      "Game episode:15/20 High Score11\n",
      "Game episode:16/20 High Score10\n",
      "Game episode:17/20 High Score37\n",
      "Game episode:18/20 High Score11\n",
      "Game episode:19/20 High Score21\n",
      "All 20 episodes are over\n"
     ]
    }
   ],
   "source": [
    "for e in range(20):\n",
    "    observation = env.reset()\n",
    "    \n",
    "    for t in range(50):\n",
    "        env.render()\n",
    "        action = env.action_space.sample()\n",
    "        observation,reward,done,other_info = env.step(action)\n",
    "        \n",
    "        if done:\n",
    "            # game episode is over\n",
    "            print(f\"Game episode:{e}/{20} High Score{t}\")\n",
    "            break\n",
    "                  \n",
    "env.close()\n",
    "print('All 20 episodes are over')\n",
    "            "
   ]
  },
  {
   "cell_type": "code",
   "execution_count": null,
   "metadata": {},
   "outputs": [],
   "source": []
  }
 ],
 "metadata": {
  "kernelspec": {
   "display_name": "Python 3",
   "language": "python",
   "name": "python3"
  },
  "language_info": {
   "codemirror_mode": {
    "name": "ipython",
    "version": 3
   },
   "file_extension": ".py",
   "mimetype": "text/x-python",
   "name": "python",
   "nbconvert_exporter": "python",
   "pygments_lexer": "ipython3",
   "version": "3.6.6"
  }
 },
 "nbformat": 4,
 "nbformat_minor": 2
}
